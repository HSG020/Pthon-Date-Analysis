{
 "cells": [
  {
   "cell_type": "code",
   "execution_count": 2,
   "id": "24cd0fe1-2a64-4010-9df2-28535dcf433f",
   "metadata": {},
   "outputs": [],
   "source": [
    "import pandas as pd\n",
    "import numpy as np"
   ]
  },
  {
   "cell_type": "code",
   "execution_count": 3,
   "id": "f2dd87e7-31da-4310-9389-c0c08c176ac5",
   "metadata": {},
   "outputs": [],
   "source": [
    "df = pd.read_csv(\"exam_data.csv\",encoding=\"gbk\")"
   ]
  },
  {
   "cell_type": "code",
   "execution_count": 4,
   "id": "b0574a08-3b1a-4de6-855f-f9b996b53873",
   "metadata": {},
   "outputs": [
    {
     "data": {
      "text/html": [
       "<div>\n",
       "<style scoped>\n",
       "    .dataframe tbody tr th:only-of-type {\n",
       "        vertical-align: middle;\n",
       "    }\n",
       "\n",
       "    .dataframe tbody tr th {\n",
       "        vertical-align: top;\n",
       "    }\n",
       "\n",
       "    .dataframe thead th {\n",
       "        text-align: right;\n",
       "    }\n",
       "</style>\n",
       "<table border=\"1\" class=\"dataframe\">\n",
       "  <thead>\n",
       "    <tr style=\"text-align: right;\">\n",
       "      <th></th>\n",
       "      <th>price</th>\n",
       "      <th>volume</th>\n",
       "      <th>date</th>\n",
       "      <th>Unnamed: 3</th>\n",
       "      <th>Unnamed: 4</th>\n",
       "    </tr>\n",
       "  </thead>\n",
       "  <tbody>\n",
       "    <tr>\n",
       "      <th>0</th>\n",
       "      <td>120.0</td>\n",
       "      <td>300</td>\n",
       "      <td>2022/1/1</td>\n",
       "      <td>NaN</td>\n",
       "      <td>NaN</td>\n",
       "    </tr>\n",
       "    <tr>\n",
       "      <th>1</th>\n",
       "      <td>95.0</td>\n",
       "      <td>150</td>\n",
       "      <td>2022/1/2</td>\n",
       "      <td>NaN</td>\n",
       "      <td>NaN</td>\n",
       "    </tr>\n",
       "    <tr>\n",
       "      <th>2</th>\n",
       "      <td>110.0</td>\n",
       "      <td>500</td>\n",
       "      <td>2022/1/3</td>\n",
       "      <td>NaN</td>\n",
       "      <td>NaN</td>\n",
       "    </tr>\n",
       "    <tr>\n",
       "      <th>3</th>\n",
       "      <td>85.0</td>\n",
       "      <td>200</td>\n",
       "      <td>2022/1/4</td>\n",
       "      <td>NaN</td>\n",
       "      <td>NaN</td>\n",
       "    </tr>\n",
       "    <tr>\n",
       "      <th>4</th>\n",
       "      <td>130.0</td>\n",
       "      <td>350</td>\n",
       "      <td>2022/1/5</td>\n",
       "      <td>NaN</td>\n",
       "      <td>NaN</td>\n",
       "    </tr>\n",
       "    <tr>\n",
       "      <th>5</th>\n",
       "      <td>NaN</td>\n",
       "      <td>180</td>\n",
       "      <td>2022/1/6</td>\n",
       "      <td>NaN</td>\n",
       "      <td>NaN</td>\n",
       "    </tr>\n",
       "    <tr>\n",
       "      <th>6</th>\n",
       "      <td>99.0</td>\n",
       "      <td>210</td>\n",
       "      <td>2022/1/7</td>\n",
       "      <td>NaN</td>\n",
       "      <td>NaN</td>\n",
       "    </tr>\n",
       "    <tr>\n",
       "      <th>7</th>\n",
       "      <td>102.0</td>\n",
       "      <td>190</td>\n",
       "      <td>2022/1/8</td>\n",
       "      <td>NaN</td>\n",
       "      <td>NaN</td>\n",
       "    </tr>\n",
       "    <tr>\n",
       "      <th>8</th>\n",
       "      <td>NaN</td>\n",
       "      <td>250</td>\n",
       "      <td>2022/1/9</td>\n",
       "      <td>NaN</td>\n",
       "      <td>NaN</td>\n",
       "    </tr>\n",
       "    <tr>\n",
       "      <th>9</th>\n",
       "      <td>150.0</td>\n",
       "      <td>400</td>\n",
       "      <td>2022/1/10</td>\n",
       "      <td>NaN</td>\n",
       "      <td>NaN</td>\n",
       "    </tr>\n",
       "  </tbody>\n",
       "</table>\n",
       "</div>"
      ],
      "text/plain": [
       "   price  volume       date  Unnamed: 3  Unnamed: 4\n",
       "0  120.0     300   2022/1/1         NaN         NaN\n",
       "1   95.0     150   2022/1/2         NaN         NaN\n",
       "2  110.0     500   2022/1/3         NaN         NaN\n",
       "3   85.0     200   2022/1/4         NaN         NaN\n",
       "4  130.0     350   2022/1/5         NaN         NaN\n",
       "5    NaN     180   2022/1/6         NaN         NaN\n",
       "6   99.0     210   2022/1/7         NaN         NaN\n",
       "7  102.0     190   2022/1/8         NaN         NaN\n",
       "8    NaN     250   2022/1/9         NaN         NaN\n",
       "9  150.0     400  2022/1/10         NaN         NaN"
      ]
     },
     "execution_count": 4,
     "metadata": {},
     "output_type": "execute_result"
    }
   ],
   "source": [
    "df"
   ]
  },
  {
   "cell_type": "code",
   "execution_count": 5,
   "id": "ab832d43-5c0c-4c8f-b0f2-9c9ba196aa1b",
   "metadata": {},
   "outputs": [
    {
     "name": "stdout",
     "output_type": "stream",
     "text": [
      "<class 'pandas.core.frame.DataFrame'>\n",
      "RangeIndex: 10 entries, 0 to 9\n",
      "Data columns (total 5 columns):\n",
      " #   Column      Non-Null Count  Dtype  \n",
      "---  ------      --------------  -----  \n",
      " 0   price       8 non-null      float64\n",
      " 1   volume      10 non-null     int64  \n",
      " 2   date        10 non-null     object \n",
      " 3   Unnamed: 3  0 non-null      float64\n",
      " 4   Unnamed: 4  0 non-null      float64\n",
      "dtypes: float64(3), int64(1), object(1)\n",
      "memory usage: 532.0+ bytes\n"
     ]
    }
   ],
   "source": [
    "df.info()"
   ]
  },
  {
   "cell_type": "code",
   "execution_count": 6,
   "id": "5ea5977a-4894-4691-a10f-1e5908f72446",
   "metadata": {},
   "outputs": [],
   "source": [
    "df_cleaned = df.dropna"
   ]
  },
  {
   "cell_type": "code",
   "execution_count": 7,
   "id": "43f7dd3c-bbd4-4015-8e81-a019e3fbba65",
   "metadata": {},
   "outputs": [
    {
     "data": {
      "text/plain": [
       "<bound method DataFrame.dropna of    price  volume       date  Unnamed: 3  Unnamed: 4\n",
       "0  120.0     300   2022/1/1         NaN         NaN\n",
       "1   95.0     150   2022/1/2         NaN         NaN\n",
       "2  110.0     500   2022/1/3         NaN         NaN\n",
       "3   85.0     200   2022/1/4         NaN         NaN\n",
       "4  130.0     350   2022/1/5         NaN         NaN\n",
       "5    NaN     180   2022/1/6         NaN         NaN\n",
       "6   99.0     210   2022/1/7         NaN         NaN\n",
       "7  102.0     190   2022/1/8         NaN         NaN\n",
       "8    NaN     250   2022/1/9         NaN         NaN\n",
       "9  150.0     400  2022/1/10         NaN         NaN>"
      ]
     },
     "execution_count": 7,
     "metadata": {},
     "output_type": "execute_result"
    }
   ],
   "source": [
    "df_cleaned"
   ]
  },
  {
   "cell_type": "code",
   "execution_count": 8,
   "id": "5269daba-1f53-4885-948b-bde0cf2acdc4",
   "metadata": {},
   "outputs": [],
   "source": [
    "df_filed = df.fillna(0)"
   ]
  },
  {
   "cell_type": "code",
   "execution_count": 9,
   "id": "53197ccb-ee47-45b1-854f-68c5d141c75d",
   "metadata": {},
   "outputs": [
    {
     "data": {
      "text/html": [
       "<div>\n",
       "<style scoped>\n",
       "    .dataframe tbody tr th:only-of-type {\n",
       "        vertical-align: middle;\n",
       "    }\n",
       "\n",
       "    .dataframe tbody tr th {\n",
       "        vertical-align: top;\n",
       "    }\n",
       "\n",
       "    .dataframe thead th {\n",
       "        text-align: right;\n",
       "    }\n",
       "</style>\n",
       "<table border=\"1\" class=\"dataframe\">\n",
       "  <thead>\n",
       "    <tr style=\"text-align: right;\">\n",
       "      <th></th>\n",
       "      <th>price</th>\n",
       "      <th>volume</th>\n",
       "      <th>date</th>\n",
       "      <th>Unnamed: 3</th>\n",
       "      <th>Unnamed: 4</th>\n",
       "    </tr>\n",
       "  </thead>\n",
       "  <tbody>\n",
       "    <tr>\n",
       "      <th>0</th>\n",
       "      <td>120.0</td>\n",
       "      <td>300</td>\n",
       "      <td>2022/1/1</td>\n",
       "      <td>0.0</td>\n",
       "      <td>0.0</td>\n",
       "    </tr>\n",
       "    <tr>\n",
       "      <th>1</th>\n",
       "      <td>95.0</td>\n",
       "      <td>150</td>\n",
       "      <td>2022/1/2</td>\n",
       "      <td>0.0</td>\n",
       "      <td>0.0</td>\n",
       "    </tr>\n",
       "    <tr>\n",
       "      <th>2</th>\n",
       "      <td>110.0</td>\n",
       "      <td>500</td>\n",
       "      <td>2022/1/3</td>\n",
       "      <td>0.0</td>\n",
       "      <td>0.0</td>\n",
       "    </tr>\n",
       "    <tr>\n",
       "      <th>3</th>\n",
       "      <td>85.0</td>\n",
       "      <td>200</td>\n",
       "      <td>2022/1/4</td>\n",
       "      <td>0.0</td>\n",
       "      <td>0.0</td>\n",
       "    </tr>\n",
       "    <tr>\n",
       "      <th>4</th>\n",
       "      <td>130.0</td>\n",
       "      <td>350</td>\n",
       "      <td>2022/1/5</td>\n",
       "      <td>0.0</td>\n",
       "      <td>0.0</td>\n",
       "    </tr>\n",
       "    <tr>\n",
       "      <th>5</th>\n",
       "      <td>0.0</td>\n",
       "      <td>180</td>\n",
       "      <td>2022/1/6</td>\n",
       "      <td>0.0</td>\n",
       "      <td>0.0</td>\n",
       "    </tr>\n",
       "    <tr>\n",
       "      <th>6</th>\n",
       "      <td>99.0</td>\n",
       "      <td>210</td>\n",
       "      <td>2022/1/7</td>\n",
       "      <td>0.0</td>\n",
       "      <td>0.0</td>\n",
       "    </tr>\n",
       "    <tr>\n",
       "      <th>7</th>\n",
       "      <td>102.0</td>\n",
       "      <td>190</td>\n",
       "      <td>2022/1/8</td>\n",
       "      <td>0.0</td>\n",
       "      <td>0.0</td>\n",
       "    </tr>\n",
       "    <tr>\n",
       "      <th>8</th>\n",
       "      <td>0.0</td>\n",
       "      <td>250</td>\n",
       "      <td>2022/1/9</td>\n",
       "      <td>0.0</td>\n",
       "      <td>0.0</td>\n",
       "    </tr>\n",
       "    <tr>\n",
       "      <th>9</th>\n",
       "      <td>150.0</td>\n",
       "      <td>400</td>\n",
       "      <td>2022/1/10</td>\n",
       "      <td>0.0</td>\n",
       "      <td>0.0</td>\n",
       "    </tr>\n",
       "  </tbody>\n",
       "</table>\n",
       "</div>"
      ],
      "text/plain": [
       "   price  volume       date  Unnamed: 3  Unnamed: 4\n",
       "0  120.0     300   2022/1/1         0.0         0.0\n",
       "1   95.0     150   2022/1/2         0.0         0.0\n",
       "2  110.0     500   2022/1/3         0.0         0.0\n",
       "3   85.0     200   2022/1/4         0.0         0.0\n",
       "4  130.0     350   2022/1/5         0.0         0.0\n",
       "5    0.0     180   2022/1/6         0.0         0.0\n",
       "6   99.0     210   2022/1/7         0.0         0.0\n",
       "7  102.0     190   2022/1/8         0.0         0.0\n",
       "8    0.0     250   2022/1/9         0.0         0.0\n",
       "9  150.0     400  2022/1/10         0.0         0.0"
      ]
     },
     "execution_count": 9,
     "metadata": {},
     "output_type": "execute_result"
    }
   ],
   "source": [
    "df_filed"
   ]
  },
  {
   "cell_type": "code",
   "execution_count": 20,
   "id": "dbb2adee-acd7-450e-a4b0-1091a0e4cd5d",
   "metadata": {},
   "outputs": [
    {
     "name": "stdout",
     "output_type": "stream",
     "text": [
      "Index(['price', 'volume', 'date', 'Unnamed: 3', 'Unnamed: 4'], dtype='object')\n"
     ]
    }
   ],
   "source": [
    "df_renamed = df.rename(columns = {\"price\" : \"Price\"})\n",
    "df_renamed\n",
    "print(df.columns)"
   ]
  },
  {
   "cell_type": "code",
   "execution_count": 21,
   "id": "b57198c5-4964-4a52-89f2-a8b9ab1a7a94",
   "metadata": {},
   "outputs": [],
   "source": [
    "filtered_df = df[df[\"price\"] > 100]"
   ]
  },
  {
   "cell_type": "code",
   "execution_count": 25,
   "id": "59ef10ed-5806-46e9-b3be-a9aba24676d7",
   "metadata": {},
   "outputs": [
    {
     "data": {
      "text/plain": [
       "<bound method Series.mean of 0    120.0\n",
       "1     95.0\n",
       "2    110.0\n",
       "3     85.0\n",
       "4    130.0\n",
       "5      NaN\n",
       "6     99.0\n",
       "7    102.0\n",
       "8      NaN\n",
       "9    150.0\n",
       "Name: price, dtype: float64>"
      ]
     },
     "execution_count": 25,
     "metadata": {},
     "output_type": "execute_result"
    }
   ],
   "source": [
    "average_price_df = df[\"price\"].mean\n",
    "average_price_df"
   ]
  },
  {
   "cell_type": "code",
   "execution_count": 26,
   "id": "98c678ae-dc01-4ccb-bfcd-642c3df2dbc4",
   "metadata": {},
   "outputs": [
    {
     "data": {
      "text/plain": [
       "array([[1, 2, 3],\n",
       "       [4, 5, 6],\n",
       "       [7, 8, 9]])"
      ]
     },
     "execution_count": 26,
     "metadata": {},
     "output_type": "execute_result"
    }
   ],
   "source": [
    "matrix =np.array([[1,2,3],[4,5,6],[7,8,9]])\n",
    "matrix"
   ]
  },
  {
   "cell_type": "code",
   "execution_count": 27,
   "id": "512e74c7-7ed6-4344-8cb2-6b43c6535ed9",
   "metadata": {},
   "outputs": [
    {
     "data": {
      "text/plain": [
       "array([[ 6,  7,  8],\n",
       "       [ 9, 10, 11],\n",
       "       [12, 13, 14]])"
      ]
     },
     "execution_count": 27,
     "metadata": {},
     "output_type": "execute_result"
    }
   ],
   "source": [
    "add_matrix = matrix + 5\n",
    "add_matrix"
   ]
  },
  {
   "cell_type": "code",
   "execution_count": 30,
   "id": "fa86cd06-deed-47eb-8ec6-cea4ed6cec4b",
   "metadata": {},
   "outputs": [
    {
     "data": {
      "text/plain": [
       "array([[1, 4, 7],\n",
       "       [2, 5, 8],\n",
       "       [3, 6, 9]])"
      ]
     },
     "execution_count": 30,
     "metadata": {},
     "output_type": "execute_result"
    }
   ],
   "source": [
    "transpose_matrix = matrix.T\n",
    "transpose_matrix"
   ]
  },
  {
   "cell_type": "code",
   "execution_count": null,
   "id": "d0ed75a8-31d7-4ed9-87c6-ee874f84d9bc",
   "metadata": {},
   "outputs": [],
   "source": []
  }
 ],
 "metadata": {
  "kernelspec": {
   "display_name": "Python 3 (ipykernel)",
   "language": "python",
   "name": "python3"
  },
  "language_info": {
   "codemirror_mode": {
    "name": "ipython",
    "version": 3
   },
   "file_extension": ".py",
   "mimetype": "text/x-python",
   "name": "python",
   "nbconvert_exporter": "python",
   "pygments_lexer": "ipython3",
   "version": "3.12.2"
  }
 },
 "nbformat": 4,
 "nbformat_minor": 5
}
