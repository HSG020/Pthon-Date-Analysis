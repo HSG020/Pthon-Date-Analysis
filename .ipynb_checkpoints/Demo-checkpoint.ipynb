{
 "cells": [
  {
   "cell_type": "code",
   "execution_count": 1,
   "id": "8b4deec6-715e-4c3a-9511-e1fd136934cf",
   "metadata": {},
   "outputs": [],
   "source": [
    "import numpy as np"
   ]
  },
  {
   "cell_type": "code",
   "execution_count": 5,
   "id": "226e16fa-f1e1-49e4-875e-49f05ba5c813",
   "metadata": {},
   "outputs": [],
   "source": [
    "arr1 = np.array([1,3,2,4,9])\n",
    "arr2 = np.ones(5)\n",
    "arr3 = np.zeros(5)"
   ]
  },
  {
   "cell_type": "code",
   "execution_count": 6,
   "id": "c95eefd5-f786-4e24-8f19-33f9654c3e6c",
   "metadata": {},
   "outputs": [
    {
     "data": {
      "text/plain": [
       "array([1., 3., 2., 4., 9., 1., 1., 1., 1., 1., 0., 0., 0., 0., 0.])"
      ]
     },
     "execution_count": 6,
     "metadata": {},
     "output_type": "execute_result"
    }
   ],
   "source": [
    "arr4 = np.concatenate([arr1, arr2,arr3])\n",
    "arr4"
   ]
  },
  {
   "cell_type": "code",
   "execution_count": 8,
   "id": "22ea385e-21af-405d-a7e7-29f223e16620",
   "metadata": {},
   "outputs": [
    {
     "data": {
      "text/plain": [
       "array([1, 2, 3, 4, 9])"
      ]
     },
     "execution_count": 8,
     "metadata": {},
     "output_type": "execute_result"
    }
   ],
   "source": [
    "arr1.sort()\n",
    "arr1"
   ]
  },
  {
   "cell_type": "code",
   "execution_count": 13,
   "id": "a40ee1d5-314a-4b69-97cb-aa4450ca03bf",
   "metadata": {},
   "outputs": [
    {
     "name": "stdout",
     "output_type": "stream",
     "text": [
      "3\n",
      "3\n"
     ]
    }
   ],
   "source": [
    "print(arr1[2])\n",
    "print(arr1[-3])"
   ]
  },
  {
   "cell_type": "code",
   "execution_count": 15,
   "id": "b0b54bbc-a2da-4b01-91e7-36080f622831",
   "metadata": {},
   "outputs": [
    {
     "data": {
      "text/plain": [
       "array([2, 3, 4])"
      ]
     },
     "execution_count": 15,
     "metadata": {},
     "output_type": "execute_result"
    }
   ],
   "source": [
    "arr1[1:4]"
   ]
  },
  {
   "cell_type": "code",
   "execution_count": 18,
   "id": "de6d9142-01c5-490a-8e2c-ebd219ffb0b2",
   "metadata": {},
   "outputs": [
    {
     "data": {
      "text/plain": [
       "array([ 2.,  3.,  4.,  5., 10.])"
      ]
     },
     "execution_count": 18,
     "metadata": {},
     "output_type": "execute_result"
    }
   ],
   "source": [
    "arr1 + arr2"
   ]
  },
  {
   "cell_type": "code",
   "execution_count": 19,
   "id": "a2c0c7ed-3f3e-4dfe-88d9-5252bf4bd2c7",
   "metadata": {},
   "outputs": [
    {
     "data": {
      "text/plain": [
       "array([ -5, -10, -15, -20, -45])"
      ]
     },
     "execution_count": 19,
     "metadata": {},
     "output_type": "execute_result"
    }
   ],
   "source": [
    "arr1 * -5"
   ]
  },
  {
   "cell_type": "code",
   "execution_count": 20,
   "id": "1e2d9937-5fb3-4c63-898d-f6345bb9c7ff",
   "metadata": {},
   "outputs": [
    {
     "name": "stdout",
     "output_type": "stream",
     "text": [
      "9\n",
      "1\n",
      "19\n",
      "3.8\n"
     ]
    }
   ],
   "source": [
    "print(arr1.max())\n",
    "print(arr1.min())\n",
    "print(arr1.sum())\n",
    "print(arr1.mean())"
   ]
  },
  {
   "cell_type": "code",
   "execution_count": 25,
   "id": "8e6f07e9-44d6-42b7-b280-e03b74444ab9",
   "metadata": {},
   "outputs": [
    {
     "data": {
      "text/plain": [
       "array([4, 9])"
      ]
     },
     "execution_count": 25,
     "metadata": {},
     "output_type": "execute_result"
    }
   ],
   "source": [
    "arr1[(arr1 < 1) | (arr1 > 3)]"
   ]
  },
  {
   "cell_type": "code",
   "execution_count": 24,
   "id": "9f585a5a-2882-4a9e-adb5-600c89acec76",
   "metadata": {},
   "outputs": [
    {
     "data": {
      "text/plain": [
       "array([4, 9])"
      ]
     },
     "execution_count": 24,
     "metadata": {},
     "output_type": "execute_result"
    }
   ],
   "source": [
    "arr1[arr1 > 3]"
   ]
  },
  {
   "cell_type": "code",
   "execution_count": null,
   "id": "b2cbdb1f-b386-4c96-bab1-db9cd6a49be1",
   "metadata": {},
   "outputs": [],
   "source": [
    "import turtle\n",
    "\n",
    "def draw_star(size):\n",
    "    # 画一个五角星\n",
    "    for _ in range(5):\n",
    "        turtle.forward(size)\n",
    "        turtle.right(144)\n",
    "\n",
    "def draw_two_stars(size1, size2):\n",
    "    # 设置画笔速度\n",
    "    turtle.speed(3)\n",
    "\n",
    "    # 画第一个五角星\n",
    "    draw_star(size1)\n",
    "    \n",
    "    # 移动到另一个位置画第二个五角星\n",
    "    turtle.penup()  # 抬笔\n",
    "    turtle.goto(150, 0)  # 移动到新的位置\n",
    "    turtle.pendown()  # 落笔\n",
    "\n",
    "    # 画第二个五角星\n",
    "    draw_star(size2)\n",
    "\n",
    "    # 结束绘画\n",
    "    turtle.done()\n",
    "\n",
    "# 调用函数，设置两个五角星的大小\n",
    "draw_two_stars(100, 150)\n"
   ]
  },
  {
   "cell_type": "code",
   "execution_count": null,
   "id": "19a53873-d76b-4c25-8798-301540fe5824",
   "metadata": {},
   "outputs": [],
   "source": []
  }
 ],
 "metadata": {
  "kernelspec": {
   "display_name": "Python 3 (ipykernel)",
   "language": "python",
   "name": "python3"
  },
  "language_info": {
   "codemirror_mode": {
    "name": "ipython",
    "version": 3
   },
   "file_extension": ".py",
   "mimetype": "text/x-python",
   "name": "python",
   "nbconvert_exporter": "python",
   "pygments_lexer": "ipython3",
   "version": "3.12.2"
  }
 },
 "nbformat": 4,
 "nbformat_minor": 5
}
